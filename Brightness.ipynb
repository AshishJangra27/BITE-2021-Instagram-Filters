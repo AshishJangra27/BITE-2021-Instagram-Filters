{
 "cells": [
  {
   "cell_type": "code",
   "execution_count": 2,
   "metadata": {},
   "outputs": [],
   "source": [
    "import cv2 as cv\n",
    "import numpy as np"
   ]
  },
  {
   "cell_type": "code",
   "execution_count": 10,
   "metadata": {},
   "outputs": [
    {
     "data": {
      "text/plain": [
       "True"
      ]
     },
     "execution_count": 10,
     "metadata": {},
     "output_type": "execute_result"
    }
   ],
   "source": [
    "cof = 1.2\n",
    "\n",
    "bright = cv.imread('Subject.png')*cof\n",
    "cv.imwrite('Insta Filters/Bright5.png',bright)\n",
    "\n",
    "bright = bright*cof\n",
    "cv.imwrite('Insta Filters/Bright4.png',bright)\n",
    "\n",
    "bright = bright*cof\n",
    "cv.imwrite('Insta Filters/Bright3.png',bright)\n",
    "\n",
    "bright = bright*cof\n",
    "cv.imwrite('Insta Filters/Bright2.png',bright)\n",
    "\n",
    "bright = bright*cof\n",
    "cv.imwrite('Insta Filters/Bright1.png',bright)"
   ]
  },
  {
   "cell_type": "code",
   "execution_count": 11,
   "metadata": {},
   "outputs": [
    {
     "data": {
      "text/plain": [
       "True"
      ]
     },
     "execution_count": 11,
     "metadata": {},
     "output_type": "execute_result"
    }
   ],
   "source": [
    "cof = 0.8\n",
    "\n",
    "bright = cv.imread('Subject.png')*cof\n",
    "cv.imwrite('Insta Filters/Bright6.png',bright)\n",
    "\n",
    "bright = bright*cof\n",
    "cv.imwrite('Insta Filters/Bright7.png',bright)\n",
    "\n",
    "bright = bright*cof\n",
    "cv.imwrite('Insta Filters/Bright8.png',bright)\n",
    "\n",
    "bright = bright*cof\n",
    "cv.imwrite('Insta Filters/Bright9.png',bright)\n",
    "\n",
    "bright = bright*cof\n",
    "cv.imwrite('Insta Filters/Bright10.png',bright)"
   ]
  },
  {
   "cell_type": "code",
   "execution_count": null,
   "metadata": {},
   "outputs": [],
   "source": []
  }
 ],
 "metadata": {
  "kernelspec": {
   "display_name": "Python 2",
   "language": "python",
   "name": "python2"
  },
  "language_info": {
   "codemirror_mode": {
    "name": "ipython",
    "version": 2
   },
   "file_extension": ".py",
   "mimetype": "text/x-python",
   "name": "python",
   "nbconvert_exporter": "python",
   "pygments_lexer": "ipython2",
   "version": "2.7.16"
  }
 },
 "nbformat": 4,
 "nbformat_minor": 2
}
